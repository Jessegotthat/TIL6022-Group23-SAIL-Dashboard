{
 "cells": [
  {
   "cell_type": "markdown",
   "id": "b7f0f32a",
   "metadata": {},
   "source": [
    "# SAIL 2025 Python Project Proposal  \n",
    "\n",
    "**Group 23**  \n",
    "\n",
    "**Team Member:**  Junlin Li; Yuxuan Li; Kristof Hollstein; Ida Bagus Rai Satria Dharma; Muhammad Harisuddin  \n",
    "\n",
    "---"
   ]
  },
  {
   "cell_type": "markdown",
   "id": "650bdc0d",
   "metadata": {},
   "source": [
    "**Proposal: Predictive Dashboard for Crowd Flows at SAIL Amsterdam 2025**  \n",
    "\n",
    "### 1. Objectives  \n",
    "\n",
    "Develop a dashboard prototype to monitor and predict short-term crowd flows during SAIL Amsterdam 2025.  \n",
    "\n",
    "Provide the present and forecasts of crowd densities at specific areas.  \n",
    "\n",
    "Enable event managers to anticipate congestion and safety risks by visualizing real-time data, predictions, and anomalies on an interactive map interface.  \n",
    "\n",
    "To serve as a reference material to prevent undesirable incidents in the future  \n",
    "\n",
    "---\n"
   ]
  },
  {
   "cell_type": "markdown",
   "id": "971fa337",
   "metadata": {},
   "source": [
    "### 2. Research Questions  \n",
    "\n",
    "To what extent can short-term crowd flow patterns (15–120 minutes) be predicted using only sensor data?  \n",
    "\n",
    "To what extent do different forecasting methods (e.g., moving averages, autoregression, sliding window retraining) reduce bias in crowd flow predictions?  \n",
    "\n",
    "To what extent do external conditions like the weather and ship arrivals influence visitor movement patterns during SAIL 2025?  \n",
    "\n",
    "To what extent can spatial visualizations (e.g., interactive maps) reveal patterns in crowd flows compared to time-series charts?  \n",
    "\n",
    "---\n",
    "\n"
   ]
  },
  {
   "cell_type": "markdown",
   "id": "1b70e8e9",
   "metadata": {},
   "source": [
    "### 3. Intended Data Analysis  \n",
    "\n",
    "**Data Preprocessing:**  \n",
    "\n",
    "Clean missing values, align time intervals (3-minute resolution).  \n",
    "\n",
    "Aggregate and smooth data to reveal trends.  \n",
    "\n",
    "**Exploratory Analysis:**  \n",
    "\n",
    "Identify temporal patterns (daily peaks, event-related surges).  \n",
    "\n",
    "Detect variability across locations.  \n",
    "\n",
    "**Forecasting Approaches:**  \n",
    "\n",
    "Baseline models: Moving Average, Autoregressive (AR).  \n",
    "\n",
    "Online correction: Trend correction, sliding window retraining.  \n",
    "\n",
    "Uncertainty representation: Mean ± standard deviation to generate forecast intervals.  \n",
    "\n",
    "**Evaluation Metrics:**  \n",
    "\n",
    "RMSE/MAE for overall prediction accuracy.  \n",
    "\n",
    "Peak timing error (difference between predicted vs. observed peak).  \n",
    "\n",
    "Anomaly count (flagging unrealistic predictions, e.g., sudden extreme values).  \n",
    "\n",
    "---\n"
   ]
  },
  {
   "cell_type": "markdown",
   "id": "9c3dbc3e",
   "metadata": {},
   "source": [
    "### 4. List of Datasets  \n",
    "\n",
    "**Confirmed dataset:**  \n",
    "\n",
    "Crowd flows from SAIL sensors (3-minute intervals).  \n",
    "\n",
    "**Potential extensions (not guaranteed, but optional later):**  \n",
    "\n",
    "KNMI weather data (temperature, precipitation, wind).  \n",
    "\n",
    "Traffic flow data  \n",
    "\n",
    "AIS ship location data.  \n",
    "\n",
    "For this proposal, the focus remains on crowd flows only.  \n",
    "\n",
    "---\n"
   ]
  },
  {
   "cell_type": "markdown",
   "id": "2c7022d4",
   "metadata": {},
   "source": [
    "### 5. Geographical Scale  \n",
    "\n",
    "**Study area:** Key crowd gathering zones in Amsterdam during SAIL Amsterdam Area  \n",
    "\n",
    "**Spatial resolution:** Individual sensor locations as points on the map.  \n",
    "\n",
    "**Visualization:**  \n",
    "\n",
    "Each sensor represented as a point colored by density.  \n",
    "\n",
    "Hover tooltips show detailed info (current flow, forecast, anomaly status).  \n",
    "\n",
    "Switchable layers for different forecast horizons (current, +15 min, +1h, +2h).  "
   ]
  }
 ],
 "metadata": {
  "language_info": {
   "name": "python"
  }
 },
 "nbformat": 4,
 "nbformat_minor": 5
}
