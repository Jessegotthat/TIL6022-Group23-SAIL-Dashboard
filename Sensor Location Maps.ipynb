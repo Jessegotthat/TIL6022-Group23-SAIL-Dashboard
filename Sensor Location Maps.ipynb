{
 "cells": [
  {
   "cell_type": "code",
   "execution_count": 2,
   "id": "5cdd2d24",
   "metadata": {},
   "outputs": [
    {
     "name": "stdout",
     "output_type": "stream",
     "text": [
      "Collecting contextily\n",
      "  Downloading contextily-1.6.2-py3-none-any.whl.metadata (2.9 kB)\n",
      "Collecting geopy (from contextily)\n",
      "  Downloading geopy-2.4.1-py3-none-any.whl.metadata (6.8 kB)\n",
      "Requirement already satisfied: matplotlib in c:\\users\\muham\\anaconda3\\envs\\til6022-25\\lib\\site-packages (from contextily) (3.10.6)\n",
      "Collecting mercantile (from contextily)\n",
      "  Downloading mercantile-1.2.1-py3-none-any.whl.metadata (4.8 kB)\n",
      "Requirement already satisfied: pillow in c:\\users\\muham\\anaconda3\\envs\\til6022-25\\lib\\site-packages (from contextily) (11.1.0)\n",
      "Collecting rasterio (from contextily)\n",
      "  Downloading rasterio-1.4.3-cp313-cp313-win_amd64.whl.metadata (9.4 kB)\n",
      "Requirement already satisfied: requests in c:\\users\\muham\\anaconda3\\envs\\til6022-25\\lib\\site-packages (from contextily) (2.32.5)\n",
      "Requirement already satisfied: joblib in c:\\users\\muham\\anaconda3\\envs\\til6022-25\\lib\\site-packages (from contextily) (1.5.2)\n",
      "Requirement already satisfied: xyzservices in c:\\users\\muham\\anaconda3\\envs\\til6022-25\\lib\\site-packages (from contextily) (2022.9.0)\n",
      "Collecting geographiclib<3,>=1.52 (from geopy->contextily)\n",
      "  Downloading geographiclib-2.1-py3-none-any.whl.metadata (1.6 kB)\n",
      "Requirement already satisfied: contourpy>=1.0.1 in c:\\users\\muham\\anaconda3\\envs\\til6022-25\\lib\\site-packages (from matplotlib->contextily) (1.3.1)\n",
      "Requirement already satisfied: cycler>=0.10 in c:\\users\\muham\\anaconda3\\envs\\til6022-25\\lib\\site-packages (from matplotlib->contextily) (0.11.0)\n",
      "Requirement already satisfied: fonttools>=4.22.0 in c:\\users\\muham\\anaconda3\\envs\\til6022-25\\lib\\site-packages (from matplotlib->contextily) (4.55.3)\n",
      "Requirement already satisfied: kiwisolver>=1.3.1 in c:\\users\\muham\\anaconda3\\envs\\til6022-25\\lib\\site-packages (from matplotlib->contextily) (1.4.8)\n",
      "Requirement already satisfied: numpy>=1.23 in c:\\users\\muham\\anaconda3\\envs\\til6022-25\\lib\\site-packages (from matplotlib->contextily) (2.2.5)\n",
      "Requirement already satisfied: packaging>=20.0 in c:\\users\\muham\\anaconda3\\envs\\til6022-25\\lib\\site-packages (from matplotlib->contextily) (25.0)\n",
      "Requirement already satisfied: pyparsing>=2.3.1 in c:\\users\\muham\\anaconda3\\envs\\til6022-25\\lib\\site-packages (from matplotlib->contextily) (3.2.0)\n",
      "Requirement already satisfied: python-dateutil>=2.7 in c:\\users\\muham\\anaconda3\\envs\\til6022-25\\lib\\site-packages (from matplotlib->contextily) (2.9.0.post0)\n",
      "Requirement already satisfied: six>=1.5 in c:\\users\\muham\\anaconda3\\envs\\til6022-25\\lib\\site-packages (from python-dateutil>=2.7->matplotlib->contextily) (1.17.0)\n",
      "Requirement already satisfied: click>=3.0 in c:\\users\\muham\\anaconda3\\envs\\til6022-25\\lib\\site-packages (from mercantile->contextily) (8.2.1)\n",
      "Requirement already satisfied: colorama in c:\\users\\muham\\anaconda3\\envs\\til6022-25\\lib\\site-packages (from click>=3.0->mercantile->contextily) (0.4.6)\n",
      "Collecting affine (from rasterio->contextily)\n",
      "  Downloading affine-2.4.0-py3-none-any.whl.metadata (4.0 kB)\n",
      "Requirement already satisfied: attrs in c:\\users\\muham\\anaconda3\\envs\\til6022-25\\lib\\site-packages (from rasterio->contextily) (24.3.0)\n",
      "Requirement already satisfied: certifi in c:\\users\\muham\\anaconda3\\envs\\til6022-25\\lib\\site-packages (from rasterio->contextily) (2025.8.3)\n",
      "Collecting cligj>=0.5 (from rasterio->contextily)\n",
      "  Downloading cligj-0.7.2-py3-none-any.whl.metadata (5.0 kB)\n",
      "Collecting click-plugins (from rasterio->contextily)\n",
      "  Downloading click_plugins-1.1.1.2-py2.py3-none-any.whl.metadata (6.5 kB)\n",
      "Requirement already satisfied: charset_normalizer<4,>=2 in c:\\users\\muham\\anaconda3\\envs\\til6022-25\\lib\\site-packages (from requests->contextily) (3.3.2)\n",
      "Requirement already satisfied: idna<4,>=2.5 in c:\\users\\muham\\anaconda3\\envs\\til6022-25\\lib\\site-packages (from requests->contextily) (3.7)\n",
      "Requirement already satisfied: urllib3<3,>=1.21.1 in c:\\users\\muham\\anaconda3\\envs\\til6022-25\\lib\\site-packages (from requests->contextily) (2.5.0)\n",
      "Downloading contextily-1.6.2-py3-none-any.whl (17 kB)\n",
      "Downloading geopy-2.4.1-py3-none-any.whl (125 kB)\n",
      "Downloading geographiclib-2.1-py3-none-any.whl (40 kB)\n",
      "Downloading mercantile-1.2.1-py3-none-any.whl (14 kB)\n",
      "Downloading rasterio-1.4.3-cp313-cp313-win_amd64.whl (25.4 MB)\n",
      "   ---------------------------------------- 0.0/25.4 MB ? eta -:--:--\n",
      "   ----- ---------------------------------- 3.4/25.4 MB 17.4 MB/s eta 0:00:02\n",
      "   ----------- ---------------------------- 7.3/25.4 MB 17.8 MB/s eta 0:00:02\n",
      "   ------------------ --------------------- 11.5/25.4 MB 18.2 MB/s eta 0:00:01\n",
      "   ----------------------- ---------------- 15.2/25.4 MB 18.0 MB/s eta 0:00:01\n",
      "   ------------------------------ --------- 19.7/25.4 MB 18.4 MB/s eta 0:00:01\n",
      "   ------------------------------------- -- 23.6/25.4 MB 18.5 MB/s eta 0:00:01\n",
      "   ---------------------------------------- 25.4/25.4 MB 17.7 MB/s  0:00:01\n",
      "Downloading cligj-0.7.2-py3-none-any.whl (7.1 kB)\n",
      "Downloading affine-2.4.0-py3-none-any.whl (15 kB)\n",
      "Downloading click_plugins-1.1.1.2-py2.py3-none-any.whl (11 kB)\n",
      "Installing collected packages: geographiclib, affine, mercantile, geopy, cligj, click-plugins, rasterio, contextily\n",
      "\n",
      "   --------------- ------------------------ 3/8 [geopy]\n",
      "   ------------------------------ --------- 6/8 [rasterio]\n",
      "   ------------------------------ --------- 6/8 [rasterio]\n",
      "   ------------------------------ --------- 6/8 [rasterio]\n",
      "   ---------------------------------------- 8/8 [contextily]\n",
      "\n",
      "Successfully installed affine-2.4.0 click-plugins-1.1.1.2 cligj-0.7.2 contextily-1.6.2 geographiclib-2.1 geopy-2.4.1 mercantile-1.2.1 rasterio-1.4.3\n",
      "Note: you may need to restart the kernel to use updated packages.\n"
     ]
    }
   ],
   "source": [
    "pip install contextily\n"
   ]
  },
  {
   "cell_type": "code",
   "execution_count": 3,
   "id": "d6655078",
   "metadata": {},
   "outputs": [],
   "source": [
    "import contextily as ctx"
   ]
  }
 ],
 "metadata": {
  "kernelspec": {
   "display_name": "TIL6022-25",
   "language": "python",
   "name": "python3"
  },
  "language_info": {
   "codemirror_mode": {
    "name": "ipython",
    "version": 3
   },
   "file_extension": ".py",
   "mimetype": "text/x-python",
   "name": "python",
   "nbconvert_exporter": "python",
   "pygments_lexer": "ipython3",
   "version": "3.13.5"
  }
 },
 "nbformat": 4,
 "nbformat_minor": 5
}
