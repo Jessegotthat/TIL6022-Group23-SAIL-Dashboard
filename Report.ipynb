{
 "cells": [
  {
   "cell_type": "markdown",
   "id": "3d493942",
   "metadata": {},
   "source": [
    "# Report Dashboard for SAIL2025\n",
    "\n",
    "### **Group 23**\n",
    "\n",
    " **members**:\n",
    "\n",
    "Yuxuan Li(6488226)\n",
    "\n",
    "Junlin Li(6373259)\n",
    "\n",
    "Kristof Hollstein(6338844)\n",
    "\n",
    "Muhammad Harisuddin(**NEEDED**)\n",
    "\n",
    "Ida Bagus Rai Satria Dharma(**NEEDED**)\n"
   ]
  },
  {
   "cell_type": "markdown",
   "id": "3ac92738",
   "metadata": {},
   "source": [
    "*All the source code for this project can be find in this [GitHub repository](https://github.com/Jessegotthat/TIL6022-Group23-SAIL-Dashboard.git).*"
   ]
  },
  {
   "cell_type": "markdown",
   "id": "e8db2373",
   "metadata": {},
   "source": [
    "## Research Objective\n",
    "### Main objective: \n",
    "\n",
    "### Sub objectives : "
   ]
  },
  {
   "cell_type": "markdown",
   "id": "7a4efe6b",
   "metadata": {},
   "source": [
    "## 1. Introduction\n"
   ]
  }
 ],
 "metadata": {
  "language_info": {
   "name": "python"
  }
 },
 "nbformat": 4,
 "nbformat_minor": 5
}
